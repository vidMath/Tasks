{
 "cells": [
  {
   "cell_type": "code",
   "execution_count": null,
   "metadata": {
    "collapsed": true
   },
   "outputs": [],
   "source": [
    "#create segments of contractors based on activity and derive any interesting insights about these segments"
   ]
  },
  {
   "cell_type": "code",
   "execution_count": 22,
   "metadata": {
    "collapsed": true
   },
   "outputs": [],
   "source": [
    "%matplotlib inline"
   ]
  },
  {
   "cell_type": "code",
   "execution_count": 23,
   "metadata": {
    "collapsed": false
   },
   "outputs": [],
   "source": [
    "import matplotlib as plt\n",
    "import pandas as pd\n",
    "import numpy as np"
   ]
  },
  {
   "cell_type": "code",
   "execution_count": 24,
   "metadata": {
    "collapsed": true
   },
   "outputs": [],
   "source": [
    "df = pd.read_csv('Player Details - SR.csv')"
   ]
  },
  {
   "cell_type": "code",
   "execution_count": 25,
   "metadata": {
    "collapsed": false
   },
   "outputs": [
    {
     "data": {
      "text/html": [
       "<div>\n",
       "<table border=\"1\" class=\"dataframe\">\n",
       "  <thead>\n",
       "    <tr style=\"text-align: right;\">\n",
       "      <th></th>\n",
       "      <th>Player Id</th>\n",
       "      <th>Earnings (INR)</th>\n",
       "      <th>quality_score</th>\n",
       "      <th>is_banned</th>\n",
       "      <th>lives</th>\n",
       "    </tr>\n",
       "  </thead>\n",
       "  <tbody>\n",
       "    <tr>\n",
       "      <th>count</th>\n",
       "      <td>54610.000000</td>\n",
       "      <td>54610.000000</td>\n",
       "      <td>54610.000000</td>\n",
       "      <td>54610</td>\n",
       "      <td>54610.000000</td>\n",
       "    </tr>\n",
       "    <tr>\n",
       "      <th>mean</th>\n",
       "      <td>31650.315968</td>\n",
       "      <td>309.058487</td>\n",
       "      <td>-0.378742</td>\n",
       "      <td>0</td>\n",
       "      <td>2.992987</td>\n",
       "    </tr>\n",
       "    <tr>\n",
       "      <th>std</th>\n",
       "      <td>19420.343191</td>\n",
       "      <td>2700.527072</td>\n",
       "      <td>1.084634</td>\n",
       "      <td>0</td>\n",
       "      <td>43.401818</td>\n",
       "    </tr>\n",
       "    <tr>\n",
       "      <th>min</th>\n",
       "      <td>67.000000</td>\n",
       "      <td>0.000000</td>\n",
       "      <td>-2.000000</td>\n",
       "      <td>False</td>\n",
       "      <td>0.000000</td>\n",
       "    </tr>\n",
       "    <tr>\n",
       "      <th>25%</th>\n",
       "      <td>14415.250000</td>\n",
       "      <td>5.000000</td>\n",
       "      <td>-1.000000</td>\n",
       "      <td>0</td>\n",
       "      <td>2.000000</td>\n",
       "    </tr>\n",
       "    <tr>\n",
       "      <th>50%</th>\n",
       "      <td>29949.500000</td>\n",
       "      <td>5.000000</td>\n",
       "      <td>0.000000</td>\n",
       "      <td>0</td>\n",
       "      <td>3.000000</td>\n",
       "    </tr>\n",
       "    <tr>\n",
       "      <th>75%</th>\n",
       "      <td>49399.750000</td>\n",
       "      <td>15.000000</td>\n",
       "      <td>0.057555</td>\n",
       "      <td>0</td>\n",
       "      <td>3.000000</td>\n",
       "    </tr>\n",
       "    <tr>\n",
       "      <th>max</th>\n",
       "      <td>64789.000000</td>\n",
       "      <td>153409.000000</td>\n",
       "      <td>2.000000</td>\n",
       "      <td>False</td>\n",
       "      <td>9959.000000</td>\n",
       "    </tr>\n",
       "  </tbody>\n",
       "</table>\n",
       "</div>"
      ],
      "text/plain": [
       "          Player Id  Earnings (INR)  quality_score is_banned         lives\n",
       "count  54610.000000    54610.000000   54610.000000     54610  54610.000000\n",
       "mean   31650.315968      309.058487      -0.378742         0      2.992987\n",
       "std    19420.343191     2700.527072       1.084634         0     43.401818\n",
       "min       67.000000        0.000000      -2.000000     False      0.000000\n",
       "25%    14415.250000        5.000000      -1.000000         0      2.000000\n",
       "50%    29949.500000        5.000000       0.000000         0      3.000000\n",
       "75%    49399.750000       15.000000       0.057555         0      3.000000\n",
       "max    64789.000000   153409.000000       2.000000     False   9959.000000"
      ]
     },
     "execution_count": 25,
     "metadata": {},
     "output_type": "execute_result"
    }
   ],
   "source": [
    "df.describe()"
   ]
  },
  {
   "cell_type": "code",
   "execution_count": 26,
   "metadata": {
    "collapsed": false
   },
   "outputs": [
    {
     "data": {
      "text/plain": [
       "<matplotlib.axes._subplots.AxesSubplot at 0xda9e080>"
      ]
     },
     "execution_count": 26,
     "metadata": {},
     "output_type": "execute_result"
    },
    {
     "data": {
      "image/png": "[encoded data removed]",
      "text/plain": [
       "<matplotlib.figure.Figure at 0xdb487f0>"
      ]
     },
     "metadata": {},
     "output_type": "display_data"
    }
   ],
   "source": [
    "#plt.figure();\n",
    "df['lives'].diff().hist(bins=10,figsize=(10,5))"
   ]
  },
  {
   "cell_type": "code",
   "execution_count": 27,
   "metadata": {
    "collapsed": false
   },
   "outputs": [
    {
     "data": {
      "text/plain": [
       "array([[<matplotlib.axes._subplots.AxesSubplot object at 0x000000000D0F1F98>,\n",
       "        <matplotlib.axes._subplots.AxesSubplot object at 0x000000000DE8AA58>],\n",
       "       [<matplotlib.axes._subplots.AxesSubplot object at 0x000000000DF15048>,\n",
       "        <matplotlib.axes._subplots.AxesSubplot object at 0x000000000DDF8390>]], dtype=object)"
      ]
     },
     "execution_count": 27,
     "metadata": {},
     "output_type": "execute_result"
    },
    {
     "data": {
      "image/png": "[encoded data removed]",
      "text/plain": [
       "<matplotlib.figure.Figure at 0xd057fd0>"
      ]
     },
     "metadata": {},
     "output_type": "display_data"
    }
   ],
   "source": [
    "df.boxplot(by='lives')"
   ]
  },
  {
   "cell_type": "code",
   "execution_count": 28,
   "metadata": {
    "collapsed": false
   },
   "outputs": [
    {
     "data": {
      "text/plain": [
       "array([[<matplotlib.axes._subplots.AxesSubplot object at 0x000000000DF810B8>,\n",
       "        <matplotlib.axes._subplots.AxesSubplot object at 0x0000000009A1EB70>],\n",
       "       [<matplotlib.axes._subplots.AxesSubplot object at 0x000000000E8EC5C0>,\n",
       "        <matplotlib.axes._subplots.AxesSubplot object at 0x000000000E988780>],\n",
       "       [<matplotlib.axes._subplots.AxesSubplot object at 0x000000000EA88588>,\n",
       "        <matplotlib.axes._subplots.AxesSubplot object at 0x000000000E9F6198>]], dtype=object)"
      ]
     },
     "execution_count": 28,
     "metadata": {},
     "output_type": "execute_result"
    },
    {
     "data": {
      "image/png": "[encoded data removed]",
      "text/plain": [
       "<matplotlib.figure.Figure at 0x9c517b8>"
      ]
     },
     "metadata": {},
     "output_type": "display_data"
    }
   ],
   "source": [
    "df.hist()"
   ]
  },
  {
   "cell_type": "code",
   "execution_count": 29,
   "metadata": {
    "collapsed": false
   },
   "outputs": [
    {
     "name": "stdout",
     "output_type": "stream",
     "text": [
      "0        1140\n",
      "1        5299\n",
      "2       11387\n",
      "3       30938\n",
      "4         592\n",
      "5        5244\n",
      "11          1\n",
      "39          1\n",
      "40          3\n",
      "892         1\n",
      "963         1\n",
      "989         1\n",
      "999         1\n",
      "9959        1\n",
      "Name: lives, dtype: int64\n"
     ]
    },
    {
     "data": {
      "text/plain": [
       "<matplotlib.axes._subplots.AxesSubplot at 0x764e710>"
      ]
     },
     "execution_count": 29,
     "metadata": {},
     "output_type": "execute_result"
    },
    {
     "data": {
      "image/png": "[encoded data removed]",
      "text/plain": [
       "<matplotlib.figure.Figure at 0xec4ea58>"
      ]
     },
     "metadata": {},
     "output_type": "display_data"
    }
   ],
   "source": [
    "#list_lives = sort()\n",
    "temp1 = df['lives'].value_counts().sort_index()\n",
    "print temp1\n",
    "\n",
    "import matplotlib.pyplot as plt\n",
    "fig = plt.figure(figsize=(8,4))\n",
    "ax1 = fig.add_subplot(121)\n",
    "ax1.set_xlabel('lives')\n",
    "ax1.set_ylabel('Count')\n",
    "ax1.set_title(\"counts by lives\")\n",
    "temp1.plot(kind='bar')"
   ]
  },
  {
   "cell_type": "code",
   "execution_count": 30,
   "metadata": {
    "collapsed": false
   },
   "outputs": [
    {
     "data": {
      "text/plain": [
       "<matplotlib.axes._subplots.AxesSubplot at 0x113ded68>"
      ]
     },
     "execution_count": 30,
     "metadata": {},
     "output_type": "execute_result"
    },
    {
     "data": {
      "image/png": "[encoded data removed]",
      "text/plain": [
       "<matplotlib.figure.Figure at 0x113d4208>"
      ]
     },
     "metadata": {},
     "output_type": "display_data"
    }
   ],
   "source": [
    "df['quality_score'].hist()"
   ]
  },
  {
   "cell_type": "code",
   "execution_count": 31,
   "metadata": {
    "collapsed": false
   },
   "outputs": [
    {
     "name": "stdout",
     "output_type": "stream",
     "text": [
      "lives\n",
      "0      -0.439070\n",
      "1      -0.927881\n",
      "2      -0.997601\n",
      "3      -0.333303\n",
      "4       0.382251\n",
      "5       1.175993\n",
      "11      0.645161\n",
      "39      1.980000\n",
      "40      1.993367\n",
      "892     1.202957\n",
      "963     1.579778\n",
      "989    -0.222222\n",
      "999    -0.486567\n",
      "9959    1.804266\n",
      "Name: quality_score, dtype: float64\n"
     ]
    }
   ],
   "source": [
    "temp2 = df.pivot_table(values='quality_score',index=['lives'])\n",
    "print temp2"
   ]
  },
  {
   "cell_type": "code",
   "execution_count": 32,
   "metadata": {
    "collapsed": false
   },
   "outputs": [],
   "source": [
    "#table = pivot_table(df, values='D', index=['A', 'B'],columns=['C'], aggfunc=np.sum)\n",
    "temp2 = df.pivot_table(values='Player Id',index=['lives','quality_score'],aggfunc=np.count_nonzero)\n",
    "#print temp2"
   ]
  },
  {
   "cell_type": "code",
   "execution_count": 33,
   "metadata": {
    "collapsed": false
   },
   "outputs": [],
   "source": [
    "#Binning:\n",
    "def binning(col, cut_points, labels):\n",
    "  #Define min and max values:\n",
    "    minval = col.min()\n",
    "    maxval= col.max()\n",
    "\n",
    "    #create list by adding min and max to cut_points\n",
    "    break_points = [minval] + cut_points + [maxval]\n",
    "    #print len(break_points)\n",
    "\n",
    "    #if no labels provided, use default labels 0 ... (n-1)\n",
    "    if not labels:\n",
    "        labels = range(len(cut_points)+1)\n",
    "\n",
    "    #Binning using cut function of pandas\n",
    "    colBin = pd.cut(col,bins=break_points,labels=labels,include_lowest=True)\n",
    "    return colBin\n",
    "\n",
    "#Binning age:\n",
    "cut_points = [-1.5,-1,-0.5,0,0.5,1,1.5]\n",
    "labels = ['<-1.5','-1.5< <-1','-1< <-0.5','-0.5< <0','0< <0.5','0.5< <1','1< <1.5','1.5<']\n",
    "df[\"quality_score_Bin\"] = binning(df[\"quality_score\"], cut_points, labels)\n",
    "#print df['quality_score_Bin']\n",
    "quality_score_seg = pd.value_counts(df[\"quality_score_Bin\"], sort=False)\n",
    "#print quality_score_seg"
   ]
  },
  {
   "cell_type": "code",
   "execution_count": 34,
   "metadata": {
    "collapsed": false
   },
   "outputs": [
    {
     "name": "stdout",
     "output_type": "stream",
     "text": [
      "lives  quality_score_Bin\n",
      "0      <-1.5                   51\n",
      "       -1.5< <-1              145\n",
      "       -1< <-0.5              312\n",
      "       -0.5< <0               394\n",
      "       0< <0.5                201\n",
      "       0.5< <1                 37\n",
      "       1< <1.5                NaN\n",
      "       1.5<                   NaN\n",
      "1      <-1.5                 1932\n",
      "       -1.5< <-1              724\n",
      "       -1< <-0.5              893\n",
      "       -0.5< <0              1002\n",
      "       0< <0.5                538\n",
      "       0.5< <1                165\n",
      "       1< <1.5                 42\n",
      "       1.5<                     3\n",
      "2      <-1.5                 4800\n",
      "       -1.5< <-1             2015\n",
      "       -1< <-0.5             1035\n",
      "       -0.5< <0              1844\n",
      "       0< <0.5               1004\n",
      "       0.5< <1                596\n",
      "       1< <1.5                 92\n",
      "       1.5<                     1\n",
      "3      <-1.5                 5068\n",
      "       -1.5< <-1             5743\n",
      "       -1< <-0.5              855\n",
      "       -0.5< <0             13773\n",
      "       0< <0.5               1876\n",
      "       0.5< <1               1337\n",
      "                            ...  \n",
      "963    -1< <-0.5              NaN\n",
      "       -0.5< <0               NaN\n",
      "       0< <0.5                NaN\n",
      "       0.5< <1                NaN\n",
      "       1< <1.5                NaN\n",
      "       1.5<                     1\n",
      "989    <-1.5                  NaN\n",
      "       -1.5< <-1              NaN\n",
      "       -1< <-0.5              NaN\n",
      "       -0.5< <0                 1\n",
      "       0< <0.5                NaN\n",
      "       0.5< <1                NaN\n",
      "       1< <1.5                NaN\n",
      "       1.5<                   NaN\n",
      "999    <-1.5                  NaN\n",
      "       -1.5< <-1              NaN\n",
      "       -1< <-0.5              NaN\n",
      "       -0.5< <0                 1\n",
      "       0< <0.5                NaN\n",
      "       0.5< <1                NaN\n",
      "       1< <1.5                NaN\n",
      "       1.5<                   NaN\n",
      "9959   <-1.5                  NaN\n",
      "       -1.5< <-1              NaN\n",
      "       -1< <-0.5              NaN\n",
      "       -0.5< <0               NaN\n",
      "       0< <0.5                NaN\n",
      "       0.5< <1                NaN\n",
      "       1< <1.5                NaN\n",
      "       1.5<                     1\n",
      "Name: Player Id, dtype: float64\n"
     ]
    }
   ],
   "source": [
    "temp2 = df.pivot_table(values='Player Id',index=['lives','quality_score_Bin'],aggfunc=np.count_nonzero)\n",
    "print temp2"
   ]
  }
 ],
 "metadata": {
  "kernelspec": {
   "display_name": "Python 2",
   "language": "python",
   "name": "python2"
  },
  "language_info": {
   "codemirror_mode": {
    "name": "ipython",
    "version": 2
   },
   "file_extension": ".py",
   "mimetype": "text/x-python",
   "name": "python",
   "nbconvert_exporter": "python",
   "pygments_lexer": "ipython2",
   "version": "2.7.11"
  }
 },
 "nbformat": 4,
 "nbformat_minor": 0
}
